{
  "nbformat": 4,
  "nbformat_minor": 0,
  "metadata": {
    "colab": {
      "provenance": [],
      "authorship_tag": "ABX9TyO+/mgS0qvQ2H8dOrDzg4Hw",
      "include_colab_link": true
    },
    "kernelspec": {
      "name": "python3",
      "display_name": "Python 3"
    },
    "language_info": {
      "name": "python"
    }
  },
  "cells": [
    {
      "cell_type": "markdown",
      "metadata": {
        "id": "view-in-github",
        "colab_type": "text"
      },
      "source": [
        "<a href=\"https://colab.research.google.com/github/MajiTeh/Online_Retail_Prediction/blob/main/Online_Retal_prediction.ipynb\" target=\"_parent\"><img src=\"https://colab.research.google.com/assets/colab-badge.svg\" alt=\"Open In Colab\"/></a>"
      ]
    },
    {
      "cell_type": "code",
      "execution_count": 1,
      "metadata": {
        "id": "EteT51_TRvRB"
      },
      "outputs": [],
      "source": [
        "import numpy as np\n",
        "import pandas as pd\n",
        "import seaborn as sns"
      ]
    },
    {
      "cell_type": "code",
      "source": [
        "from google.colab import drive\n",
        "drive.mount('/content/drive')"
      ],
      "metadata": {
        "colab": {
          "base_uri": "https://localhost:8080/"
        },
        "id": "nZPyG-V2S-Je",
        "outputId": "110ae7a4-c044-4b77-e48f-b3fd106d9610"
      },
      "execution_count": 2,
      "outputs": [
        {
          "output_type": "stream",
          "name": "stdout",
          "text": [
            "Mounted at /content/drive\n"
          ]
        }
      ]
    },
    {
      "cell_type": "code",
      "source": [
        "data = pd.read_csv('/content/sample_data/online_retail.csv')\n",
        "data.info()"
      ],
      "metadata": {
        "id": "16RJaD19Vzk-",
        "colab": {
          "base_uri": "https://localhost:8080/"
        },
        "outputId": "c96ccfa8-8333-42fd-fa4a-2623933ce901"
      },
      "execution_count": 5,
      "outputs": [
        {
          "output_type": "stream",
          "name": "stdout",
          "text": [
            "<class 'pandas.core.frame.DataFrame'>\n",
            "RangeIndex: 502983 entries, 0 to 502982\n",
            "Data columns (total 8 columns):\n",
            " #   Column       Non-Null Count   Dtype  \n",
            "---  ------       --------------   -----  \n",
            " 0   InvoiceNo    502983 non-null  object \n",
            " 1   StockCode    502983 non-null  object \n",
            " 2   Description  501551 non-null  object \n",
            " 3   Quantity     502983 non-null  int64  \n",
            " 4   InvoiceDate  502983 non-null  object \n",
            " 5   UnitPrice    502983 non-null  float64\n",
            " 6   CustomerID   379216 non-null  float64\n",
            " 7   Country      502982 non-null  object \n",
            "dtypes: float64(2), int64(1), object(5)\n",
            "memory usage: 30.7+ MB\n"
          ]
        }
      ]
    }
  ]
}